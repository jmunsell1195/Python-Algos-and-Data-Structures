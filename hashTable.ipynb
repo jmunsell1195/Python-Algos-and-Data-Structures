{
  "nbformat": 4,
  "nbformat_minor": 0,
  "metadata": {
    "colab": {
      "name": "hashTable.ipynb",
      "provenance": [],
      "collapsed_sections": [],
      "authorship_tag": "ABX9TyMaQPif0gJMr01oTHwGqOZ3",
      "include_colab_link": true
    },
    "kernelspec": {
      "name": "python3",
      "display_name": "Python 3"
    },
    "language_info": {
      "name": "python"
    }
  },
  "cells": [
    {
      "cell_type": "markdown",
      "metadata": {
        "id": "view-in-github",
        "colab_type": "text"
      },
      "source": [
        "<a href=\"https://colab.research.google.com/github/jmunsell1195/Python-Algos-and-Data-Structures/blob/main/hashTable.ipynb\" target=\"_parent\"><img src=\"https://colab.research.google.com/assets/colab-badge.svg\" alt=\"Open In Colab\"/></a>"
      ]
    },
    {
      "cell_type": "code",
      "execution_count": 5,
      "metadata": {
        "id": "ekDvz8oEeGnn"
      },
      "outputs": [],
      "source": [
        "# In this program, we build a hash table. Along with several methods to use the hash table\n",
        "\n",
        "class hashTable:\n",
        "  \"\"\"\n",
        "  class hashTable creates an array of specified size, and values are added as key, value pairs\n",
        "\n",
        "  ----Attrs----\n",
        "\n",
        "  size : user specifies space to be reserved for hash table\n",
        "\n",
        "  ---Methods---\n",
        "\n",
        "    hash:  converts key to address, O(m) m is length of key\n",
        "  insert:  commits value to location hash(key), O(1)\n",
        "  lookup:  retrieves value at location hash(key), O(1)\n",
        "  search:  searches for value, O(n)\n",
        "\n",
        "  \"\"\"\n",
        "  \n",
        "  # Constructor takes size argument and creates an array of size size\n",
        "  def __init__(self,size):\n",
        "    self.arr = [None for i in range(size)]\n",
        "    self.size = size\n",
        "\n",
        "  # Hash method maps str, int, float into int in range [0,size - 1]\n",
        "  def hash(self,key):\n",
        "    # If type is str build return value with ordinal value of chars in key\n",
        "    if type(key) == str:\n",
        "      k = 0\n",
        "      for char in key:\n",
        "        k += ord(char)\n",
        "      # Return k mod size\n",
        "      return k % self.size\n",
        "\n",
        "    # If key is int, return key mod size\n",
        "    elif type(key) == int:\n",
        "      return key % self.size\n",
        "\n",
        "    # If key is float, return int with value floor(key mod size)\n",
        "    elif type(key) == float:\n",
        "      return int(key % self.size)\n",
        "\n",
        "    # Otherwise raise type error\n",
        "    else:\n",
        "      raise TypeError('keys should be type str, int, or float')\n",
        "\n",
        "  # Insert function places value at location hash(key) \n",
        "  def insert(self,key,val):\n",
        "    # If arr[hash(key)] is type none, then no values have been stored\n",
        "    # make a new list\n",
        "    if self.arr[self.hash(key)] == None:\n",
        "      self.arr[self.hash(key)] = [val]\n",
        "    #otherwise add values to the list at that location\n",
        "    else:\n",
        "      self.arr[self.hash(key)].append(val)\n",
        "\n",
        "  # retrieve value with key\n",
        "  def get(self,key):\n",
        "    if self.arr[self.hash(key)] is not None:\n",
        "      return self.arr[self.hash(key)]\n",
        "    else:\n",
        "      raise KeyError('Key does not exist') \n",
        "\n",
        "  # Print the hash table\n",
        "  def printView(self):\n",
        "    print(self.arr)"
      ]
    },
    {
      "cell_type": "markdown",
      "source": [
        "Validation"
      ],
      "metadata": {
        "id": "4Ox65nu6HZAX"
      }
    },
    {
      "cell_type": "code",
      "source": [
        "#Make hash table object\n",
        "\n",
        "HT = hashTable(20)\n",
        "HT.printView()"
      ],
      "metadata": {
        "id": "RAVVDFZSi9kZ",
        "colab": {
          "base_uri": "https://localhost:8080/"
        },
        "outputId": "4616af30-cb8c-43d1-f9a6-1f3d85f13638"
      },
      "execution_count": 6,
      "outputs": [
        {
          "output_type": "stream",
          "name": "stdout",
          "text": [
            "[None, None, None, None, None, None, None, None, None, None, None, None, None, None, None, None, None, None, None, None]\n"
          ]
        }
      ]
    },
    {
      "cell_type": "code",
      "source": [
        "# insert key value pairs\n",
        "\n",
        "HT.insert('apple',20)\n",
        "HT.insert('pear',15)\n",
        "HT.printView()"
      ],
      "metadata": {
        "id": "9x_43da_jBeB",
        "colab": {
          "base_uri": "https://localhost:8080/"
        },
        "outputId": "5418d385-3e5b-41af-8061-5c220f1ec233"
      },
      "execution_count": 7,
      "outputs": [
        {
          "output_type": "stream",
          "name": "stdout",
          "text": [
            "[None, None, None, None, [15], None, None, None, None, None, [20], None, None, None, None, None, None, None, None, None]\n"
          ]
        }
      ]
    },
    {
      "cell_type": "code",
      "source": [
        "# inappropriate key type throws error\n",
        "\n",
        "HT.insert([],20)"
      ],
      "metadata": {
        "colab": {
          "base_uri": "https://localhost:8080/",
          "height": 345
        },
        "id": "ZTb_0q1cjJnj",
        "outputId": "b389aa96-e63f-4a9d-daf8-caf20a6e7f65"
      },
      "execution_count": 9,
      "outputs": [
        {
          "output_type": "error",
          "ename": "TypeError",
          "evalue": "ignored",
          "traceback": [
            "\u001b[0;31m---------------------------------------------------------------------------\u001b[0m",
            "\u001b[0;31mTypeError\u001b[0m                                 Traceback (most recent call last)",
            "\u001b[0;32m<ipython-input-9-ef7976bac55a>\u001b[0m in \u001b[0;36m<module>\u001b[0;34m()\u001b[0m\n\u001b[1;32m      1\u001b[0m \u001b[0;31m# inappropriate key type throws error\u001b[0m\u001b[0;34m\u001b[0m\u001b[0;34m\u001b[0m\u001b[0;34m\u001b[0m\u001b[0m\n\u001b[1;32m      2\u001b[0m \u001b[0;34m\u001b[0m\u001b[0m\n\u001b[0;32m----> 3\u001b[0;31m \u001b[0mHT\u001b[0m\u001b[0;34m.\u001b[0m\u001b[0minsert\u001b[0m\u001b[0;34m(\u001b[0m\u001b[0;34m[\u001b[0m\u001b[0;34m]\u001b[0m\u001b[0;34m,\u001b[0m\u001b[0;36m20\u001b[0m\u001b[0;34m)\u001b[0m\u001b[0;34m\u001b[0m\u001b[0;34m\u001b[0m\u001b[0m\n\u001b[0m",
            "\u001b[0;32m<ipython-input-5-07ece6e2cd77>\u001b[0m in \u001b[0;36minsert\u001b[0;34m(self, key, val)\u001b[0m\n\u001b[1;32m     49\u001b[0m     \u001b[0;31m# If arr[hash(key)] is type none, then no values have been stored\u001b[0m\u001b[0;34m\u001b[0m\u001b[0;34m\u001b[0m\u001b[0;34m\u001b[0m\u001b[0m\n\u001b[1;32m     50\u001b[0m     \u001b[0;31m# make a new list\u001b[0m\u001b[0;34m\u001b[0m\u001b[0;34m\u001b[0m\u001b[0;34m\u001b[0m\u001b[0m\n\u001b[0;32m---> 51\u001b[0;31m     \u001b[0;32mif\u001b[0m \u001b[0mself\u001b[0m\u001b[0;34m.\u001b[0m\u001b[0marr\u001b[0m\u001b[0;34m[\u001b[0m\u001b[0mself\u001b[0m\u001b[0;34m.\u001b[0m\u001b[0mhash\u001b[0m\u001b[0;34m(\u001b[0m\u001b[0mkey\u001b[0m\u001b[0;34m)\u001b[0m\u001b[0;34m]\u001b[0m \u001b[0;34m==\u001b[0m \u001b[0;32mNone\u001b[0m\u001b[0;34m:\u001b[0m\u001b[0;34m\u001b[0m\u001b[0;34m\u001b[0m\u001b[0m\n\u001b[0m\u001b[1;32m     52\u001b[0m       \u001b[0mself\u001b[0m\u001b[0;34m.\u001b[0m\u001b[0marr\u001b[0m\u001b[0;34m[\u001b[0m\u001b[0mself\u001b[0m\u001b[0;34m.\u001b[0m\u001b[0mhash\u001b[0m\u001b[0;34m(\u001b[0m\u001b[0mkey\u001b[0m\u001b[0;34m)\u001b[0m\u001b[0;34m]\u001b[0m \u001b[0;34m=\u001b[0m \u001b[0;34m[\u001b[0m\u001b[0mval\u001b[0m\u001b[0;34m]\u001b[0m\u001b[0;34m\u001b[0m\u001b[0;34m\u001b[0m\u001b[0m\n\u001b[1;32m     53\u001b[0m     \u001b[0;31m#otherwise add values to the list at that location\u001b[0m\u001b[0;34m\u001b[0m\u001b[0;34m\u001b[0m\u001b[0;34m\u001b[0m\u001b[0m\n",
            "\u001b[0;32m<ipython-input-5-07ece6e2cd77>\u001b[0m in \u001b[0;36mhash\u001b[0;34m(self, key)\u001b[0m\n\u001b[1;32m     43\u001b[0m     \u001b[0;31m# Otherwise raise type error\u001b[0m\u001b[0;34m\u001b[0m\u001b[0;34m\u001b[0m\u001b[0;34m\u001b[0m\u001b[0m\n\u001b[1;32m     44\u001b[0m     \u001b[0;32melse\u001b[0m\u001b[0;34m:\u001b[0m\u001b[0;34m\u001b[0m\u001b[0;34m\u001b[0m\u001b[0m\n\u001b[0;32m---> 45\u001b[0;31m       \u001b[0;32mraise\u001b[0m \u001b[0mTypeError\u001b[0m\u001b[0;34m(\u001b[0m\u001b[0;34m'keys should be type str, int, or float'\u001b[0m\u001b[0;34m)\u001b[0m\u001b[0;34m\u001b[0m\u001b[0;34m\u001b[0m\u001b[0m\n\u001b[0m\u001b[1;32m     46\u001b[0m \u001b[0;34m\u001b[0m\u001b[0m\n\u001b[1;32m     47\u001b[0m   \u001b[0;31m# Insert function places value at location hash(key)\u001b[0m\u001b[0;34m\u001b[0m\u001b[0;34m\u001b[0m\u001b[0;34m\u001b[0m\u001b[0m\n",
            "\u001b[0;31mTypeError\u001b[0m: keys should be type str, int, or float"
          ]
        }
      ]
    },
    {
      "cell_type": "code",
      "source": [
        "# test get method\n",
        "\n",
        "HT.get('apple')"
      ],
      "metadata": {
        "colab": {
          "base_uri": "https://localhost:8080/"
        },
        "id": "KUZ8SsJPkFHD",
        "outputId": "0d54aacb-9a3a-4f06-de89-e862b82b9f9c"
      },
      "execution_count": 11,
      "outputs": [
        {
          "output_type": "execute_result",
          "data": {
            "text/plain": [
              "[20]"
            ]
          },
          "metadata": {},
          "execution_count": 11
        }
      ]
    },
    {
      "cell_type": "code",
      "source": [
        "# If you look up a key that doesn't exist, you get an error\n",
        "\n",
        "HT.get('w')"
      ],
      "metadata": {
        "id": "2MBYgsCBoEIZ",
        "colab": {
          "base_uri": "https://localhost:8080/",
          "height": 321
        },
        "outputId": "1d089a06-27c2-4c8e-e32f-428b288288b8"
      },
      "execution_count": 14,
      "outputs": [
        {
          "output_type": "error",
          "ename": "KeyError",
          "evalue": "ignored",
          "traceback": [
            "\u001b[0;31m---------------------------------------------------------------------------\u001b[0m",
            "\u001b[0;31mKeyError\u001b[0m                                  Traceback (most recent call last)",
            "\u001b[0;32m<ipython-input-14-b617d9118ff4>\u001b[0m in \u001b[0;36m<module>\u001b[0;34m()\u001b[0m\n\u001b[1;32m      1\u001b[0m \u001b[0;31m# If you look up a key that doesn't exist, you get an error\u001b[0m\u001b[0;34m\u001b[0m\u001b[0;34m\u001b[0m\u001b[0;34m\u001b[0m\u001b[0m\n\u001b[1;32m      2\u001b[0m \u001b[0;34m\u001b[0m\u001b[0m\n\u001b[0;32m----> 3\u001b[0;31m \u001b[0mHT\u001b[0m\u001b[0;34m.\u001b[0m\u001b[0mget\u001b[0m\u001b[0;34m(\u001b[0m\u001b[0;34m'w'\u001b[0m\u001b[0;34m)\u001b[0m\u001b[0;34m\u001b[0m\u001b[0;34m\u001b[0m\u001b[0m\n\u001b[0m",
            "\u001b[0;32m<ipython-input-5-07ece6e2cd77>\u001b[0m in \u001b[0;36mget\u001b[0;34m(self, key, **val)\u001b[0m\n\u001b[1;32m     60\u001b[0m       \u001b[0;32mreturn\u001b[0m \u001b[0mself\u001b[0m\u001b[0;34m.\u001b[0m\u001b[0marr\u001b[0m\u001b[0;34m[\u001b[0m\u001b[0mself\u001b[0m\u001b[0;34m.\u001b[0m\u001b[0mhash\u001b[0m\u001b[0;34m(\u001b[0m\u001b[0mkey\u001b[0m\u001b[0;34m)\u001b[0m\u001b[0;34m]\u001b[0m\u001b[0;34m\u001b[0m\u001b[0;34m\u001b[0m\u001b[0m\n\u001b[1;32m     61\u001b[0m     \u001b[0;32melse\u001b[0m\u001b[0;34m:\u001b[0m\u001b[0;34m\u001b[0m\u001b[0;34m\u001b[0m\u001b[0m\n\u001b[0;32m---> 62\u001b[0;31m       \u001b[0;32mraise\u001b[0m \u001b[0mKeyError\u001b[0m\u001b[0;34m(\u001b[0m\u001b[0;34m'Key does not exist'\u001b[0m\u001b[0;34m)\u001b[0m\u001b[0;34m\u001b[0m\u001b[0;34m\u001b[0m\u001b[0m\n\u001b[0m\u001b[1;32m     63\u001b[0m \u001b[0;34m\u001b[0m\u001b[0m\n\u001b[1;32m     64\u001b[0m   \u001b[0;32mdef\u001b[0m \u001b[0mprintView\u001b[0m\u001b[0;34m(\u001b[0m\u001b[0mself\u001b[0m\u001b[0;34m)\u001b[0m\u001b[0;34m:\u001b[0m\u001b[0;34m\u001b[0m\u001b[0;34m\u001b[0m\u001b[0m\n",
            "\u001b[0;31mKeyError\u001b[0m: 'Key does not exist'"
          ]
        }
      ]
    },
    {
      "cell_type": "code",
      "source": [
        ""
      ],
      "metadata": {
        "id": "PTlMB7_8KOAb"
      },
      "execution_count": null,
      "outputs": []
    }
  ]
}